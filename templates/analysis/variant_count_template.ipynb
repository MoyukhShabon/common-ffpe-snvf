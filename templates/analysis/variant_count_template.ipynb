{
 "cells": [
  {
   "cell_type": "code",
   "execution_count": 3,
   "id": "b51fdd2d",
   "metadata": {
    "vscode": {
     "languageId": "r"
    }
   },
   "outputs": [
    {
     "name": "stderr",
     "output_type": "stream",
     "text": [
      "Warning message in file(filename, \"r\", encoding = encoding):\n",
      "“cannot open file '../common-ffpe-snvf/R/eval.R': No such file or directory”\n"
     ]
    },
    {
     "ename": "ERROR",
     "evalue": "Error in file(filename, \"r\", encoding = encoding): cannot open the connection\n",
     "output_type": "error",
     "traceback": [
      "Error in file(filename, \"r\", encoding = encoding): cannot open the connection\nTraceback:\n",
      "1. file(filename, \"r\", encoding = encoding)",
      "2. .handleSimpleError(function (cnd) \n . {\n .     watcher$capture_plot_and_output()\n .     cnd <- sanitize_call(cnd)\n .     watcher$push(cnd)\n .     switch(on_error, continue = invokeRestart(\"eval_continue\"), \n .         stop = invokeRestart(\"eval_stop\"), error = NULL)\n . }, \"cannot open the connection\", base::quote(file(filename, \"r\", \n .     encoding = encoding)))"
     ]
    }
   ],
   "source": [
    "source(\"../common-ffpe-snvf/R/eval.R\")\n",
    "library(ggplot2)\n",
    "library(scales)\n",
    "library(dplyr)\n",
    "library(patchwork)"
   ]
  },
  {
   "cell_type": "code",
   "execution_count": 1,
   "id": "132a4e40",
   "metadata": {
    "vscode": {
     "languageId": "r"
    }
   },
   "outputs": [],
   "source": [
    "get_ct_count <- function(ffpe_annot, ff_annot, dataset_id, match_id_col, sample_id_col = \"sample_name\") {\n",
    "\t\n",
    "\tct_count <- list()\n",
    "\n",
    "\tfor (i in seq_len(nrow(ffpe_annot))){\n",
    "\t\t\n",
    "\t\tsample_number <- ffpe_annot[i, match_id_col]\n",
    "\t\tffpe_sample_name <- ffpe_annot[i, sample_id_col]\n",
    "\n",
    "\t\tmessage(sprintf(\"processing %s. %s\", i, ffpe_sample_name))\n",
    "\n",
    "\t\tmatched_ff_annot <- ff_annot[ff_annot[[match_id_col]] == sample_number, ]\n",
    "\t\tff_sample_name <- matched_ff_annot[[sample_id_col]]\n",
    "\t\t\n",
    "\t\tffpe_snv <- read_vcf(file.path(vcf_dir, ffpe_sample_name, sprintf(\"%s.vcf\", ffpe_sample_name)), columns = c(\"chrom\", \"pos\", \"ref\", \"alt\"))\n",
    "\t\t# Filter C:G>T:A variants\n",
    "\t\tffpe_snv_ct <- ct_filter(ffpe_snv)\n",
    "\n",
    "\t\tff_snv <- read_vcf(file.path(vcf_dir, ff_sample_name, sprintf(\"%s.vcf\", ff_sample_name)), columns = c(\"chrom\", \"pos\", \"ref\", \"alt\"))\n",
    "\t\t# Filter C:G>T:A variants\n",
    "\t\tff_snv_ct <- ct_filter(ff_snv)\n",
    "\n",
    "\t\t## Count C>T variants\n",
    "\t\tn_ct_ffpe <- nrow(ffpe_snv_ct)\n",
    "\t\tn_ct_ff <- nrow(ff_snv_ct)\n",
    "\n",
    "\t\tsample_ct_count <- data.frame(\n",
    "\t\t\tffpe_sample_name = ffpe_sample_name,\n",
    "\t\t\tmatched_ff_sample_name = ff_sample_name,\n",
    "\t\t\tn_ct_ffpe = n_ct_ffpe,\n",
    "\t\t\tn_ct_ff = n_ct_ff\n",
    "\t\t)\n",
    "\n",
    "\t\tct_count[[i]] <- sample_ct_count\n",
    "\n",
    "\t}\n",
    "\n",
    "\tall_ct_count <- do.call(rbind, ct_count)\n",
    "\t## Wide to Long\n",
    "\tct_count_long <- reshape(all_ct_count, idvar = c(\"ffpe_sample_name\", \"matched_ff_sample_name\"), direction = \"long\", v.names = \"n_ct\", varying = c(\"n_ct_ffpe\", \"n_ct_ff\"), timevar = \"sample_type\", times = c(\"FFPE\", \"Fresh Frozen\"))\n",
    "\trow.names(ct_count_long) <- NULL\n",
    "\tct_count_long$dataset_id <- dataset_id\n",
    "\n",
    "\tct_count_long\n",
    "}\n"
   ]
  },
  {
   "cell_type": "code",
   "execution_count": 21,
   "id": "72dfd127",
   "metadata": {
    "vscode": {
     "languageId": "r"
    }
   },
   "outputs": [],
   "source": [
    "make_bar_chart <- function(df){\n",
    "\tggplot(data = df, aes(x = ffpe_sample_name, y = n_ct, fill = sample_type)) +\n",
    "\tfacet_wrap(~dataset_id, scales = \"free\") +\n",
    "\tgeom_bar(stat=\"identity\", position=position_dodge()) +\n",
    "\tscale_y_continuous(labels = label_number()) +\n",
    "\tlabs(\n",
    "\t\tx = \"Samples\", \n",
    "\t\ty = \"C>T Mutation Count\",\n",
    "\t\t# fill = \"Sample Type\",\n",
    "\t\t# title = \"C:G>T:A SNV Count\"\n",
    "\t) +\n",
    "\t# theme_minimal() +\n",
    "\ttheme(\n",
    "\t\tplot.title = element_text(hjust = 0.5, face = \"bold\", size = 12, margin = margin(t = 10, b = 10)),\n",
    "\t\tplot.subtitle = element_text(hjust = 0.5),\n",
    "\t\tplot.caption = element_text(hjust = 0),\n",
    "\t\tlegend.position = \"bottom\",\n",
    "\t\tlegend.title = element_blank(), # element_text(size = 10)\n",
    "\t\tlegend.text = element_text(size = 8),\n",
    "\t\tlegend.key.size = unit(0.5, \"cm\"),\n",
    "\t\taxis.text.x = element_blank(),\n",
    "\t\taxis.ticks.x = element_blank(),\n",
    "\t\tpanel.background = element_rect(fill = \"white\", color = NA)\n",
    "\t\t# axis.title.x = element_text(size = 10),\n",
    "\t\t# axis.title.y = element_text(size = 10),\n",
    "\t\t\n",
    "\t)\n",
    "}"
   ]
  },
  {
   "cell_type": "code",
   "execution_count": 8,
   "id": "ac350846",
   "metadata": {
    "vscode": {
     "languageId": "r"
    }
   },
   "outputs": [],
   "source": [
    "## Dataset specific variables\n",
    "dataset_id <- \"SRP044740\"\n",
    "vcf_dir <- \"../vcf/SRP044740/vcf_filtered_pass_orientation\"\n",
    "lookup_table <- read.delim(\"../annot/SRP044740/sample-info_stage1.tsv\")\n",
    "ffpe_annot <- lookup_table[lookup_table$sample_type == \"FFPE\", ]\n",
    "ff_annot <- lookup_table[lookup_table$sample_type == \"FROZ\", ]\n",
    "sample_id_col <- \"sample_name\"\n",
    "match_id_col <- \"sample_number\""
   ]
  },
  {
   "cell_type": "code",
   "execution_count": null,
   "id": "27811350",
   "metadata": {
    "vscode": {
     "languageId": "r"
    }
   },
   "outputs": [
    {
     "name": "stderr",
     "output_type": "stream",
     "text": [
      "processing 1. BGI-FFPE1_SRR1523243\n",
      "\n"
     ]
    },
    {
     "name": "stderr",
     "output_type": "stream",
     "text": [
      "processing 2. BGI-FFPE1_SRR1523257\n",
      "\n",
      "processing 3. BGI-FFPE1_SRR1523263\n",
      "\n",
      "processing 4. BGI-FFPE2_SRR1523244\n",
      "\n",
      "processing 5. BGI-FFPE2_SRR1523264\n",
      "\n",
      "processing 6. BGI-FFPE3_SRR1523251\n",
      "\n",
      "processing 7. BGI-FFPE3_SRR1523269\n",
      "\n",
      "processing 8. BGI-FFPE4_SRR1523253\n",
      "\n",
      "processing 9. BGI-FFPE4_SRR1523268\n",
      "\n",
      "processing 10. BGI-FFPE5_SRR1523252\n",
      "\n",
      "processing 11. BGI-FFPE5_SRR1523261\n",
      "\n",
      "processing 12. BGI-FFPE6_SRR1523256\n",
      "\n",
      "processing 13. BGI-FFPE6_SRR1523254\n",
      "\n",
      "processing 14. BGI-FFPE7_SRR1523247\n",
      "\n",
      "processing 15. BGI-FFPE7_SRR1523266\n",
      "\n",
      "processing 16. BGI-FFPE8_SRR1523245\n",
      "\n",
      "processing 17. BGI-FFPE8_SRR1523262\n",
      "\n",
      "processing 18. BGI-FFPE9_SRR1523255\n",
      "\n",
      "processing 19. BGI-FFPE10_SRR1523246\n",
      "\n",
      "processing 20. BGI-FFPE10_SRR1523260\n",
      "\n",
      "processing 21. BGI-FFPE10_SRR1523265\n",
      "\n",
      "processing 22. BGI-FFPE11_SRR1523258\n",
      "\n",
      "processing 23. BGI-FFPE11_SRR1523250\n",
      "\n",
      "processing 24. BGI-FFPE12_SRR1523248\n",
      "\n",
      "processing 25. BGI-FFPE12_SRR1523259\n",
      "\n",
      "processing 26. BGI-FFPE13_SRR1523267\n",
      "\n",
      "processing 27. BGI-FFPE13_SRR1523249\n",
      "\n"
     ]
    }
   ],
   "source": [
    "srp_ct_count <- get_ct_count(ffpe_annot, ff_annot, \"ENA SRP044740\", match_id_col = \"sample_number\", sample_id_col = \"sample_name\")\n",
    "qwrite(srp_ct_count, \"SRP044740/SRP044740_ct_count.tsv\")\n",
    "srp_ct_plot <- make_bar_chart(srp_ct_count)"
   ]
  },
  {
   "cell_type": "code",
   "execution_count": 10,
   "id": "0f93b439",
   "metadata": {
    "vscode": {
     "languageId": "r"
    }
   },
   "outputs": [],
   "source": [
    "## Dataset specific variables\n",
    "dataset <- \"PRJEB8754\"\n",
    "vcf_dir <- \"../vcf/PRJEB8754/vcf_pass-orient-pos-sb_ad_filtered\"\n",
    "lookup_table <- read.delim(\"../annot/PRJEB8754/sample-info_matched-ff-ffpe_on-pat-id-sample-type.tsv\")\n",
    "ffpe_annot <- lookup_table[lookup_table$preservation == \"FFPE\", ]\n",
    "ff_annot <- lookup_table[lookup_table$preservation == \"Frozen\", ]\n",
    "sample_id_col <- \"sample_name\"\n",
    "match_id_col <- \"inferred_id\""
   ]
  },
  {
   "cell_type": "code",
   "execution_count": 11,
   "id": "a0fdd27b",
   "metadata": {
    "vscode": {
     "languageId": "r"
    }
   },
   "outputs": [
    {
     "name": "stderr",
     "output_type": "stream",
     "text": [
      "processing 1. Pat01_Meta_FFPE_ERR791893\n",
      "\n",
      "processing 2. Pat03_Meta_FFPE_ERR791895\n",
      "\n",
      "processing 3. Pat04_Meta_FFPE_ERR791896\n",
      "\n",
      "processing 4. Pat08_Meta_FFPE_ERR791901\n",
      "\n",
      "processing 5. Pat09_Meta_FFPE_ERR791902\n",
      "\n",
      "processing 6. Pat10_Meta_FFPE_ERR791903\n",
      "\n",
      "processing 7. Pat11_Meta_FFPE_ERR791905\n",
      "\n"
     ]
    },
    {
     "name": "stderr",
     "output_type": "stream",
     "text": [
      "processing 8. Pat12_Meta_FFPE_ERR791907\n",
      "\n",
      "processing 9. Pat13_Meta_FFPE_ERR791908\n",
      "\n",
      "processing 10. Pat14_Meta_FFPE_ERR791909\n",
      "\n"
     ]
    }
   ],
   "source": [
    "betge_ct_count <- get_ct_count(ffpe_annot, ff_annot, \"Betge et al., 2015\", match_id_col, sample_id_col)\n",
    "qwrite(srp_ct_count, \"PRJEB8754/PRJEB8754_ct_count.tsv\")\n",
    "betge_ct_plot <- make_bar_chart(betge_ct_count)"
   ]
  },
  {
   "cell_type": "code",
   "execution_count": 12,
   "id": "81b56e92",
   "metadata": {
    "vscode": {
     "languageId": "r"
    }
   },
   "outputs": [
    {
     "data": {
      "text/html": [
       "<table class=\"dataframe\">\n",
       "<caption>A tibble: 2 × 2</caption>\n",
       "<thead>\n",
       "\t<tr><th scope=col>dataset_id</th><th scope=col>n_samples</th></tr>\n",
       "\t<tr><th scope=col>&lt;chr&gt;</th><th scope=col>&lt;int&gt;</th></tr>\n",
       "</thead>\n",
       "<tbody>\n",
       "\t<tr><td>Betge et al., 2015</td><td>10</td></tr>\n",
       "\t<tr><td>SRP044740         </td><td>27</td></tr>\n",
       "</tbody>\n",
       "</table>\n"
      ],
      "text/latex": [
       "A tibble: 2 × 2\n",
       "\\begin{tabular}{ll}\n",
       " dataset\\_id & n\\_samples\\\\\n",
       " <chr> & <int>\\\\\n",
       "\\hline\n",
       "\t Betge et al., 2015 & 10\\\\\n",
       "\t SRP044740          & 27\\\\\n",
       "\\end{tabular}\n"
      ],
      "text/markdown": [
       "\n",
       "A tibble: 2 × 2\n",
       "\n",
       "| dataset_id &lt;chr&gt; | n_samples &lt;int&gt; |\n",
       "|---|---|\n",
       "| Betge et al., 2015 | 10 |\n",
       "| SRP044740          | 27 |\n",
       "\n"
      ],
      "text/plain": [
       "  dataset_id         n_samples\n",
       "1 Betge et al., 2015 10       \n",
       "2 SRP044740          27       "
      ]
     },
     "metadata": {},
     "output_type": "display_data"
    }
   ],
   "source": [
    "all_dset_ct_count <- rbind(srp_ct_count, betge_ct_count)\n",
    "\n",
    "sample_counts <- all_dset_ct_count |>\n",
    "\tgroup_by(dataset_id) |>\n",
    "\tsummarise(n_samples = n_distinct(ffpe_sample_name))\n",
    "\n",
    "sample_counts"
   ]
  },
  {
   "cell_type": "code",
   "execution_count": null,
   "id": "580cbf11",
   "metadata": {
    "vscode": {
     "languageId": "r"
    }
   },
   "outputs": [],
   "source": []
  },
  {
   "cell_type": "code",
   "execution_count": null,
   "id": "7379b9a4",
   "metadata": {
    "vscode": {
     "languageId": "r"
    }
   },
   "outputs": [],
   "source": [
    "w= 8; h = 3\n",
    "options(repr.plot.width = w, repr.plot.height = h)\n",
    "\n",
    "sample_counts <- all_dset_ct_count |>\n",
    "\tgroup_by(dataset_id) |>\n",
    "\tsummarise(n_samples = n_distinct(ffpe_sample_name))\n",
    "\n",
    "final_plot <- betge_ct_plot + srp_ct_plot + \n",
    "\tplot_layout(\n",
    "\t\t\twidths = sample_counts$n_samples, # Set widths proportional to sample count\n",
    "\t\t\tguides = \"collect\", # Collect legends into one common legend\n",
    "\t\t\taxis_titles = \"collect\" \n",
    "\t) +\n",
    "\tplot_annotation(\n",
    "\t\ttitle = \"C:G>T:A SNV Count\",\n",
    "\t\ttheme = theme(\n",
    "\t\t\tplot.title = element_text(hjust = 0.5, face = \"bold\", size = 12),\n",
    "\t\t\tplot.caption = element_text(hjust = 0.5, size = 11), # Center the 'Samples' label\n",
    "\t\t\tlegend.position = \"bottom\",\n",
    "\t\t\tlegend.title = element_blank()\n",
    "\t\t)\n",
    "\t)\n",
    "\n",
    "qdraw(final_plot, \"ffpe_ff-ct-bar_chart.pdf\", width = w, height =  h)"
   ]
  },
  {
   "cell_type": "code",
   "execution_count": null,
   "metadata": {
    "vscode": {
     "languageId": "r"
    }
   },
   "outputs": [
    {
     "data": {
      "image/png": "[encoded data removed]",
      "text/plain": [
       "plot without title"
      ]
     },
     "metadata": {
      "image/png": {
       "height": 180,
       "width": 120
      }
     },
     "output_type": "display_data"
    }
   ],
   "source": [
    "options(repr.plot.width = w, repr.plot.height = h)\n",
    "final_plot"
   ]
  }
 ],
 "metadata": {
  "kernelspec": {
   "display_name": "R",
   "language": "R",
   "name": "ir"
  },
  "language_info": {
   "codemirror_mode": "r",
   "file_extension": ".r",
   "mimetype": "text/x-r-source",
   "name": "R",
   "pygments_lexer": "r",
   "version": "4.3.3"
  }
 },
 "nbformat": 4,
 "nbformat_minor": 5
}
